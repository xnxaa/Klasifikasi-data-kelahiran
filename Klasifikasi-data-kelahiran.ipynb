{
  "nbformat": 4,
  "nbformat_minor": 0,
  "metadata": {
    "colab": {
      "provenance": []
    },
    "kernelspec": {
      "name": "python3",
      "display_name": "Python 3"
    },
    "language_info": {
      "name": "python"
    }
  },
  "cells": [
    {
      "cell_type": "code",
      "metadata": {
        "id": "tiPd1fk0eIEh",
        "colab": {
          "base_uri": "https://localhost:8080/",
          "height": 204
        },
        "outputId": "b7fe0b5b-95ab-4c42-c4d4-47fcc38ae5dd"
      },
      "source": [
        "import pandas as pd\n",
        "from sklearn.datasets import load_iris\n",
        "\n",
        "df = load_iris()\n",
        "df = pd.read_csv('/content/Data Kelahiran 2016.csv')\n",
        "df.head()"
      ],
      "execution_count": null,
      "outputs": [
        {
          "output_type": "execute_result",
          "data": {
            "text/html": [
              "<div>\n",
              "<style scoped>\n",
              "    .dataframe tbody tr th:only-of-type {\n",
              "        vertical-align: middle;\n",
              "    }\n",
              "\n",
              "    .dataframe tbody tr th {\n",
              "        vertical-align: top;\n",
              "    }\n",
              "\n",
              "    .dataframe thead th {\n",
              "        text-align: right;\n",
              "    }\n",
              "</style>\n",
              "<table border=\"1\" class=\"dataframe\">\n",
              "  <thead>\n",
              "    <tr style=\"text-align: right;\">\n",
              "      <th></th>\n",
              "      <th>Kecamatan</th>\n",
              "      <th>Nama Puskesmas</th>\n",
              "      <th>Jumlah Bayi Lahir Hidup</th>\n",
              "      <th>Jumlah Bayi Lahir Mati</th>\n",
              "      <th>Angka Kelahiran</th>\n",
              "    </tr>\n",
              "  </thead>\n",
              "  <tbody>\n",
              "    <tr>\n",
              "      <th>0</th>\n",
              "      <td>Sukasari</td>\n",
              "      <td>UPT SUKARASA</td>\n",
              "      <td>1365</td>\n",
              "      <td>1</td>\n",
              "      <td>Sedang</td>\n",
              "    </tr>\n",
              "    <tr>\n",
              "      <th>1</th>\n",
              "      <td>Sukajadi</td>\n",
              "      <td>UPT SUKAJADI</td>\n",
              "      <td>1768</td>\n",
              "      <td>4</td>\n",
              "      <td>Sedang</td>\n",
              "    </tr>\n",
              "    <tr>\n",
              "      <th>2</th>\n",
              "      <td>Cicendo</td>\n",
              "      <td>UPT PASIRKALIKI</td>\n",
              "      <td>1618</td>\n",
              "      <td>3</td>\n",
              "      <td>Sedang</td>\n",
              "    </tr>\n",
              "    <tr>\n",
              "      <th>3</th>\n",
              "      <td>Andir</td>\n",
              "      <td>UPT GARUDA</td>\n",
              "      <td>1586</td>\n",
              "      <td>5</td>\n",
              "      <td>Sedang</td>\n",
              "    </tr>\n",
              "    <tr>\n",
              "      <th>4</th>\n",
              "      <td>Cidadap</td>\n",
              "      <td>UPT CIUMBULEUIT</td>\n",
              "      <td>935</td>\n",
              "      <td>2</td>\n",
              "      <td>Rendah</td>\n",
              "    </tr>\n",
              "  </tbody>\n",
              "</table>\n",
              "</div>"
            ],
            "text/plain": [
              "  Kecamatan    Nama Puskesmas  ...  Jumlah Bayi Lahir Mati  Angka Kelahiran\n",
              "0  Sukasari      UPT SUKARASA  ...                       1           Sedang\n",
              "1  Sukajadi     UPT SUKAJADI   ...                       4           Sedang\n",
              "2   Cicendo   UPT PASIRKALIKI  ...                       3           Sedang\n",
              "3     Andir        UPT GARUDA  ...                       5           Sedang\n",
              "4   Cidadap  UPT CIUMBULEUIT   ...                       2           Rendah\n",
              "\n",
              "[5 rows x 5 columns]"
            ]
          },
          "metadata": {},
          "execution_count": 1
        }
      ]
    },
    {
      "cell_type": "code",
      "metadata": {
        "colab": {
          "base_uri": "https://localhost:8080/"
        },
        "id": "ezjvQ6DGyjBm",
        "outputId": "d0cea7ae-6595-4eeb-db1d-3a524a97789d"
      },
      "source": [
        "from sklearn.tree import DecisionTreeClassifier\n",
        "\n",
        "x = df[[\"Jumlah Bayi Lahir Hidup\", \"Jumlah Bayi Lahir Mati\"]]\n",
        "y = df[\"Angka Kelahiran\"]\n",
        "\n",
        "model = DecisionTreeClassifier()\n",
        "model.fit(x,y)\n",
        "model.predict([[1365, 1]])"
      ],
      "execution_count": null,
      "outputs": [
        {
          "output_type": "execute_result",
          "data": {
            "text/plain": [
              "array(['Sedang'], dtype=object)"
            ]
          },
          "metadata": {},
          "execution_count": 6
        }
      ]
    },
    {
      "cell_type": "code",
      "metadata": {
        "id": "0h6tzO9k0MoP"
      },
      "source": [
        "from sklearn.tree import export_graphviz\n",
        "export_graphviz(\n",
        "    model,\n",
        "    out_file = 'decision_tree_angka_kelahiran.dot',\n",
        "    feature_names = [\"Jumlah Bayi Lahir Hidup\", \"Jumlah Bayi Lahir Mati\"],\n",
        "    class_names = [\"Rendah\", \"Sedang\", \"Tinggi\"],\n",
        "    rounded = True,\n",
        "    filled = True\n",
        ")"
      ],
      "execution_count": null,
      "outputs": []
    }
  ]
}